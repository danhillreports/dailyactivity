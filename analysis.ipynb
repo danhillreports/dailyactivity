{
 "metadata": {
  "name": "",
  "signature": "sha256:169a9af1f7986a0b7c4e171ce428a0aa1fbe49e5bc87b402f07c76c4fa39f453"
 },
 "nbformat": 3,
 "nbformat_minor": 0,
 "worksheets": [
  {
   "cells": [
    {
     "cell_type": "markdown",
     "metadata": {},
     "source": [
      "What are most common crimes in UCR and daily activity?\n",
      "\n",
      "When do most UCR and daily activity incidents happen?\n",
      "\n",
      "    season, time of day"
     ]
    },
    {
     "cell_type": "code",
     "collapsed": false,
     "input": [
      "import pandas as pd\n",
      "import numpy as np\n",
      "import matplotlib.pyplot as plt"
     ],
     "language": "python",
     "metadata": {},
     "outputs": [],
     "prompt_number": 44
    },
    {
     "cell_type": "code",
     "collapsed": false,
     "input": [
      "crimes = pd.read_csv('data/refine-crimes.csv')\n",
      "# http://www.sacpd.org/crime/stats/reports/\n",
      "ucr = pd.read_csv('data/RMSData_2012-01-01_to_2012-12-31.csv')"
     ],
     "language": "python",
     "metadata": {},
     "outputs": [],
     "prompt_number": 45
    },
    {
     "cell_type": "markdown",
     "metadata": {},
     "source": [
      "The number of incidents in the 2012 daily activity logs is 8.5 percent the number of reported crimes in 2012."
     ]
    },
    {
     "cell_type": "code",
     "collapsed": false,
     "input": [
      "print float(crimes['Crime'].count()) / float(ucr['InternalID'].count())"
     ],
     "language": "python",
     "metadata": {},
     "outputs": [
      {
       "output_type": "stream",
       "stream": "stdout",
       "text": [
        "0.0854137844296\n"
       ]
      }
     ],
     "prompt_number": 47
    },
    {
     "cell_type": "code",
     "collapsed": false,
     "input": [
      "print \"Daily activity frequencies\\n\"\n",
      "\n",
      "print crimes['Crime'].value_counts()[0:10]\n",
      "print \"\\n\\n\"\n",
      "print \"Distinct crimes: %s\" % len(crimes['Crime'].value_counts())\n",
      "print \"Average incidents per crime: %s\" % crimes['Crime'].value_counts().mean()\n",
      "print \"Median incidents per crime: %s\" % crimes['Crime'].value_counts().median()\n",
      "crimes['Crime'].value_counts().hist()"
     ],
     "language": "python",
     "metadata": {},
     "outputs": [
      {
       "output_type": "stream",
       "stream": "stdout",
       "text": [
        "Daily activity frequencies\n",
        "\n",
        "Robbery                    551\n",
        "Burglary                   483\n",
        "Subject Stop               469\n",
        "Assault                    415\n",
        "Traffic Stop               262\n",
        "Suspicious Circumstance    223\n",
        "Suspicious Subject         218\n",
        "Disturbance                185\n",
        "Stolen Vehicle             168\n",
        "Shooting                   152\n",
        "dtype: int64\n",
        "\n",
        "\n",
        "\n",
        "Distinct crimes: 268\n",
        "Average incidents per crime: 20.2723880597\n",
        "Median incidents per crime: 2.0\n"
       ]
      },
      {
       "metadata": {},
       "output_type": "pyout",
       "prompt_number": 42,
       "text": [
        "<matplotlib.axes.AxesSubplot at 0x10d2382d0>"
       ]
      },
      {
       "metadata": {},
       "output_type": "display_data",
       "png": "[encoded data removed]",
       "text": [
        "<matplotlib.figure.Figure at 0x10a6e2e10>"
       ]
      }
     ],
     "prompt_number": 42
    },
    {
     "cell_type": "code",
     "collapsed": false,
     "input": [
      "print \"UCR frequencies\\n\"\n",
      "print ucr['Description'].value_counts()[0:10]\n",
      "print \"\\n\\n\"\n",
      "print \"Distinct crimes: %s\" % len(ucr['Description'].value_counts())\n",
      "print \"Average incidents per crime: %s\" % ucr['Description'].value_counts().mean()\n",
      "print \"Median incidents per crime: %s\" % ucr['Description'].value_counts().median()\n",
      "ucr['Description'].value_counts().hist()"
     ],
     "language": "python",
     "metadata": {},
     "outputs": [
      {
       "output_type": "stream",
       "stream": "stdout",
       "text": [
        "UCR frequencies\n",
        "\n",
        "MISSING PERSON                    4102\n",
        "459 PC BURG VEHICLE               3907\n",
        "10851(A)VC TAKE VEH W/O OWNER     3284\n",
        "484 PC PETTY THEFT                3268\n",
        "TRAFFIC ACCIDENT-NON INJURY       1543\n",
        "594(B)(2)(A) VANDALISM <$400      1505\n",
        "273.5(A) BEAT SPOUSE/CO-HABITA    1446\n",
        "POSSIBLE FINANCIAL CRIME-I RPT    1445\n",
        "TOWED/STORED VEH-14602.6          1444\n",
        "NIHR/MAIL OUT/COUNTER ACCI RPT    1358\n",
        "dtype: int64\n",
        "\n",
        "\n",
        "\n",
        "Distinct crimes: 592\n",
        "Average incidents per crime: 107.444256757\n",
        "Median incidents per crime: 6.0\n"
       ]
      },
      {
       "metadata": {},
       "output_type": "pyout",
       "prompt_number": 40,
       "text": [
        "<matplotlib.axes.AxesSubplot at 0x10a102dd0>"
       ]
      },
      {
       "metadata": {},
       "output_type": "display_data",
       "png": "[encoded data removed]",
       "text": [
        "<matplotlib.figure.Figure at 0x10b825b90>"
       ]
      }
     ],
     "prompt_number": 40
    },
    {
     "cell_type": "code",
     "collapsed": false,
     "input": [],
     "language": "python",
     "metadata": {},
     "outputs": []
    }
   ],
   "metadata": {}
  }
 ]
}