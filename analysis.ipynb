{
 "metadata": {
  "name": "",
  "signature": "sha256:169a9af1f7986a0b7c4e171ce428a0aa1fbe49e5bc87b402f07c76c4fa39f453"
 },
 "nbformat": 3,
 "nbformat_minor": 0,
 "worksheets": [
  {
   "cells": [
    {
     "cell_type": "code",
     "collapsed": false,
     "input": [
      "import pandas as pd\n",
      "import numpy as np\n",
      "import matplotlib.pyplot as plt"
     ],
     "language": "python",
     "metadata": {},
     "outputs": [],
     "prompt_number": 1
    },
    {
     "cell_type": "code",
     "collapsed": false,
     "input": [
      "crimes = pd.read_csv('refine-crimes.csv')"
     ],
     "language": "python",
     "metadata": {},
     "outputs": [],
     "prompt_number": 2
    },
    {
     "cell_type": "code",
     "collapsed": false,
     "input": [
      "crimes.head()"
     ],
     "language": "python",
     "metadata": {},
     "outputs": [
      {
       "html": [
        "<div style=\"max-height:1000px;max-width:1500px;overflow:auto;\">\n",
        "<table border=\"1\" class=\"dataframe\">\n",
        "  <thead>\n",
        "    <tr style=\"text-align: right;\">\n",
        "      <th></th>\n",
        "      <th>Number</th>\n",
        "      <th>Crime</th>\n",
        "      <th>Address</th>\n",
        "      <th>Time</th>\n",
        "      <th>url</th>\n",
        "    </tr>\n",
        "  </thead>\n",
        "  <tbody>\n",
        "    <tr>\n",
        "      <th>0</th>\n",
        "      <td> 12-000326</td>\n",
        "      <td>      Domestic Violence</td>\n",
        "      <td>    1400 block of Mayfield St</td>\n",
        "      <td>  725</td>\n",
        "      <td> pages/view.aspx?publish_date=20120102</td>\n",
        "    </tr>\n",
        "    <tr>\n",
        "      <th>1</th>\n",
        "      <td> 12-000719</td>\n",
        "      <td>               Burglary</td>\n",
        "      <td>    3800 block of Presidio St</td>\n",
        "      <td> 1951</td>\n",
        "      <td> pages/view.aspx?publish_date=20120102</td>\n",
        "    </tr>\n",
        "    <tr>\n",
        "      <th>2</th>\n",
        "      <td> 12-000967</td>\n",
        "      <td> Attempt Stolen Vehicle</td>\n",
        "      <td>     2400 block of Seamist Dr</td>\n",
        "      <td>  157</td>\n",
        "      <td> pages/view.aspx?publish_date=20120102</td>\n",
        "    </tr>\n",
        "    <tr>\n",
        "      <th>3</th>\n",
        "      <td> 12-000985</td>\n",
        "      <td>               Shooting</td>\n",
        "      <td>     1700 block of Tribute Rd</td>\n",
        "      <td>  327</td>\n",
        "      <td> pages/view.aspx?publish_date=20120102</td>\n",
        "    </tr>\n",
        "    <tr>\n",
        "      <th>4</th>\n",
        "      <td> 12-000526</td>\n",
        "      <td>           Traffic Stop</td>\n",
        "      <td> Power Inn Rd / Cucamonga Ave</td>\n",
        "      <td> 1501</td>\n",
        "      <td> pages/view.aspx?publish_date=20120102</td>\n",
        "    </tr>\n",
        "  </tbody>\n",
        "</table>\n",
        "<p>5 rows \u00d7 5 columns</p>\n",
        "</div>"
       ],
       "metadata": {},
       "output_type": "pyout",
       "prompt_number": 3,
       "text": [
        "      Number                   Crime                       Address  Time  \\\n",
        "0  12-000326       Domestic Violence     1400 block of Mayfield St   725   \n",
        "1  12-000719                Burglary     3800 block of Presidio St  1951   \n",
        "2  12-000967  Attempt Stolen Vehicle      2400 block of Seamist Dr   157   \n",
        "3  12-000985                Shooting      1700 block of Tribute Rd   327   \n",
        "4  12-000526            Traffic Stop  Power Inn Rd / Cucamonga Ave  1501   \n",
        "\n",
        "                                     url  \n",
        "0  pages/view.aspx?publish_date=20120102  \n",
        "1  pages/view.aspx?publish_date=20120102  \n",
        "2  pages/view.aspx?publish_date=20120102  \n",
        "3  pages/view.aspx?publish_date=20120102  \n",
        "4  pages/view.aspx?publish_date=20120102  \n",
        "\n",
        "[5 rows x 5 columns]"
       ]
      }
     ],
     "prompt_number": 3
    },
    {
     "cell_type": "code",
     "collapsed": false,
     "input": [
      "crimes['Crime'].value_counts()"
     ],
     "language": "python",
     "metadata": {},
     "outputs": [
      {
       "metadata": {},
       "output_type": "pyout",
       "prompt_number": 4,
       "text": [
        "Robbery                    551\n",
        "Burglary                   483\n",
        "Subject Stop               469\n",
        "Assault                    415\n",
        "Traffic Stop               262\n",
        "Suspicious Circumstance    223\n",
        "Suspicious Subject         218\n",
        "Disturbance                185\n",
        "Stolen Vehicle             168\n",
        "Shooting                   152\n",
        "Missing Person             133\n",
        "Attempt Pick-Up            127\n",
        "Domestic Violence          106\n",
        "Theft                      105\n",
        "Arrest                      89\n",
        "...\n",
        "Incomplete Calls                    1\n",
        "415DV                               1\n",
        "Aggravating a Police Animal         1\n",
        "Community Project                   1\n",
        "Hit and Run Arrest                  1\n",
        "Dead Bodies                         1\n",
        "Attempted Copper Theft              1\n",
        "Shooting Report                     1\n",
        "Unfounded Threats                   1\n",
        "DUI Pursuit                         1\n",
        "Shooting Into Unoccupied Vehicle    1\n",
        "Wanted Person                       1\n",
        "Pursuit/DUI                         1\n",
        "27th St. / Yreka Ave                1\n",
        "Michael Jordan Shoe Release         1\n",
        "Length: 268, dtype: int64"
       ]
      }
     ],
     "prompt_number": 4
    },
    {
     "cell_type": "code",
     "collapsed": false,
     "input": [
      "crimes['Crime'].value_counts().hist()"
     ],
     "language": "python",
     "metadata": {},
     "outputs": [
      {
       "metadata": {},
       "output_type": "pyout",
       "prompt_number": 8,
       "text": [
        "<matplotlib.axes.AxesSubplot at 0x108334150>"
       ]
      },
      {
       "metadata": {},
       "output_type": "display_data",
       "png": "[encoded data removed]",
       "text": [
        "<matplotlib.figure.Figure at 0x108eb3d50>"
       ]
      }
     ],
     "prompt_number": 8
    },
    {
     "cell_type": "code",
     "collapsed": false,
     "input": [
      "len(crimes['Crime'].value_counts())"
     ],
     "language": "python",
     "metadata": {},
     "outputs": [
      {
       "metadata": {},
       "output_type": "pyout",
       "prompt_number": 10,
       "text": [
        "268"
       ]
      }
     ],
     "prompt_number": 10
    },
    {
     "cell_type": "code",
     "collapsed": false,
     "input": [],
     "language": "python",
     "metadata": {},
     "outputs": []
    }
   ],
   "metadata": {}
  }
 ]
}